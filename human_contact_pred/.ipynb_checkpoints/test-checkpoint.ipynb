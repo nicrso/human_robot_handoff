{
 "cells": [
  {
   "cell_type": "code",
   "execution_count": 1,
   "metadata": {},
   "outputs": [
    {
     "name": "stdout",
     "output_type": "stream",
     "text": [
      "Jupyter environment detected. Enabling Open3D WebVisualizer.\n",
      "[Open3D INFO] WebRTC GUI backend enabled.\n",
      "[Open3D INFO] WebRTCWindowSystem: HTTP handshake server disabled.\n"
     ]
    }
   ],
   "source": [
    "\n",
    "#imports \n",
    "import open3d as o3d\n",
    "# Monkey-patch torch.utils.tensorboard.SummaryWriter\n",
    "from open3d.visualization.tensorboard_plugin import summary\n",
    "# Utility function to convert Open3D geometry to a dictionary format\n",
    "from open3d.visualization.tensorboard_plugin.util import to_dict_batch\n",
    "from torch.utils.tensorboard import SummaryWriter"
   ]
  },
  {
   "cell_type": "code",
   "execution_count": 2,
   "metadata": {},
   "outputs": [],
   "source": [
    "\n",
    "#o3d test code \n",
    "cube = o3d.geometry.TriangleMesh.create_box(1, 2, 4)\n",
    "cube.compute_vertex_normals()\n",
    "cylinder = o3d.geometry.TriangleMesh.create_cylinder(radius=1.0,\n",
    "                                                     height=2.0,\n",
    "                                                     resolution=20,\n",
    "                                                     split=4)\n",
    "cylinder.compute_vertex_normals()\n",
    "colors = [(1.0, 0.0, 0.0), (0.0, 1.0, 0.0), (0.0, 0.0, 1.0)]"
   ]
  },
  {
   "cell_type": "code",
   "execution_count": 3,
   "metadata": {},
   "outputs": [],
   "source": [
    "#03d test summary \n",
    "logdir = \"demo_logs/pytorch/small_scale\"\n",
    "writer = SummaryWriter(logdir)\n",
    "for step in range(3):\n",
    "    cube.paint_uniform_color(colors[step])\n",
    "    writer.add_3d('cube', to_dict_batch([cube]), step=step)\n",
    "    cylinder.paint_uniform_color(colors[step])\n",
    "    writer.add_3d('cylinder', to_dict_batch([cylinder]), step=step)"
   ]
  },
  {
   "cell_type": "code",
   "execution_count": 4,
   "metadata": {},
   "outputs": [],
   "source": [
    "%load_ext tensorboard"
   ]
  },
  {
   "cell_type": "code",
   "execution_count": 5,
   "metadata": {},
   "outputs": [
    {
     "data": {
      "text/html": [
       "\n",
       "      <iframe id=\"tensorboard-frame-3c5c6f2438a04891\" width=\"100%\" height=\"800\" frameborder=\"0\">\n",
       "      </iframe>\n",
       "      <script>\n",
       "        (function() {\n",
       "          const frame = document.getElementById(\"tensorboard-frame-3c5c6f2438a04891\");\n",
       "          const url = new URL(\"/\", window.location);\n",
       "          const port = 6007;\n",
       "          if (port) {\n",
       "            url.port = port;\n",
       "          }\n",
       "          frame.src = url;\n",
       "        })();\n",
       "      </script>\n",
       "    "
      ],
      "text/plain": [
       "<IPython.core.display.HTML object>"
      ]
     },
     "metadata": {},
     "output_type": "display_data"
    }
   ],
   "source": [
    "%tensorboard --logdir demo_logs/pytorch/"
   ]
  }
 ],
 "metadata": {
  "kernelspec": {
   "display_name": "Python 3",
   "language": "python",
   "name": "python3"
  },
  "language_info": {
   "codemirror_mode": {
    "name": "ipython",
    "version": 3
   },
   "file_extension": ".py",
   "mimetype": "text/x-python",
   "name": "python",
   "nbconvert_exporter": "python",
   "pygments_lexer": "ipython3",
   "version": "3.6.15"
  },
  "vscode": {
   "interpreter": {
    "hash": "fd9be7a17ccacf1b0c0c65a91fd07bdac93345c1650d56a800848fb5376d89e9"
   }
  }
 },
 "nbformat": 4,
 "nbformat_minor": 2
}
